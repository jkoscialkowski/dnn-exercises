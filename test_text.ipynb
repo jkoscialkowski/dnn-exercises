{
 "cells": [
  {
   "cell_type": "code",
   "execution_count": 1,
   "metadata": {},
   "outputs": [],
   "source": [
    "import itertools\n",
    "import matplotlib.pyplot as plt\n",
    "import numpy as np\n",
    "import re\n",
    "\n",
    "from collections import Counter\n",
    "\n",
    "from task_3_embedding.preprocess import CorpusPreprocessor"
   ]
  },
  {
   "cell_type": "markdown",
   "metadata": {},
   "source": [
    "## Testing the class"
   ]
  },
  {
   "cell_type": "code",
   "execution_count": 2,
   "metadata": {},
   "outputs": [],
   "source": [
    "cp = CorpusPreprocessor(r\"D:\\dnn-exercises\\data\\train_shuf.txt\")"
   ]
  },
  {
   "cell_type": "code",
   "execution_count": 3,
   "metadata": {},
   "outputs": [],
   "source": [
    "cp.transform_text()"
   ]
  },
  {
   "cell_type": "code",
   "execution_count": 4,
   "metadata": {},
   "outputs": [],
   "source": [
    "cp.extract_vocab()"
   ]
  },
  {
   "cell_type": "code",
   "execution_count": 5,
   "metadata": {},
   "outputs": [
    {
     "data": {
      "text/plain": [
       "187304"
      ]
     },
     "execution_count": 5,
     "metadata": {},
     "output_type": "execute_result"
    }
   ],
   "source": [
    "len(cp.vocab)"
   ]
  },
  {
   "cell_type": "code",
   "execution_count": 15,
   "metadata": {},
   "outputs": [
    {
     "data": {
      "text/plain": [
       "'budzi to rozgoryczenie rolników uważających że zostali skrzywdzeni gdyż nie otrzymują dopłat za gospodarowanie w warunkach zbliżonych do warunków rolników posiadających gospodarstwa w obrębach zaliczonych do onw położonych w gminach które do onw nie zostały zaliczone'"
      ]
     },
     "execution_count": 15,
     "metadata": {},
     "output_type": "execute_result"
    }
   ],
   "source": [
    "cp.transformed_corpus[5000]"
   ]
  },
  {
   "cell_type": "markdown",
   "metadata": {},
   "source": [
    "## EDA of the text"
   ]
  },
  {
   "cell_type": "markdown",
   "metadata": {},
   "source": [
    "How many words longer than 2 characters"
   ]
  },
  {
   "cell_type": "code",
   "execution_count": 6,
   "metadata": {},
   "outputs": [
    {
     "data": {
      "text/plain": [
       "49680"
      ]
     },
     "execution_count": 6,
     "metadata": {},
     "output_type": "execute_result"
    }
   ],
   "source": [
    "sum(map(lambda x: x[1] > 2, cp.vocab))"
   ]
  },
  {
   "cell_type": "code",
   "execution_count": 13,
   "metadata": {},
   "outputs": [],
   "source": [
    "letters = list(itertools.chain(*map(lambda x: x[0], cp.vocab)))"
   ]
  },
  {
   "cell_type": "code",
   "execution_count": 14,
   "metadata": {},
   "outputs": [
    {
     "data": {
      "text/plain": [
       "35"
      ]
     },
     "execution_count": 14,
     "metadata": {},
     "output_type": "execute_result"
    }
   ],
   "source": [
    "len(set(letters))"
   ]
  },
  {
   "cell_type": "code",
   "execution_count": 20,
   "metadata": {},
   "outputs": [],
   "source": [
    "wordlens = Counter(list(map(lambda x: len(x[0]), cp.vocab)))"
   ]
  },
  {
   "cell_type": "code",
   "execution_count": 22,
   "metadata": {},
   "outputs": [
    {
     "data": {
      "text/plain": [
       "<BarContainer object of 57 artists>"
      ]
     },
     "execution_count": 22,
     "metadata": {},
     "output_type": "execute_result"
    },
    {
     "data": {
      "image/png": "[encoded data removed]",
      "text/plain": [
       "<Figure size 432x288 with 1 Axes>"
      ]
     },
     "metadata": {
      "needs_background": "light"
     },
     "output_type": "display_data"
    }
   ],
   "source": [
    "plt.bar(x = wordlens.keys(), height = wordlens.values())"
   ]
  },
  {
   "cell_type": "code",
   "execution_count": 34,
   "metadata": {},
   "outputs": [
    {
     "data": {
      "text/plain": [
       "16.0"
      ]
     },
     "execution_count": 34,
     "metadata": {},
     "output_type": "execute_result"
    }
   ],
   "source": [
    "np.quantile(list(map(lambda x: len(x[0]), cp.vocab)), .95)"
   ]
  },
  {
   "cell_type": "markdown",
   "metadata": {},
   "source": [
    "Select 16 as cutoff, as is 95-th percentile."
   ]
  },
  {
   "cell_type": "markdown",
   "metadata": {},
   "source": [
    "#### Distribution of sentence lengths"
   ]
  },
  {
   "cell_type": "code",
   "execution_count": 18,
   "metadata": {},
   "outputs": [
    {
     "data": {
      "text/plain": [
       "(array([4.9066e+04, 3.8129e+04, 9.6080e+03, 2.3430e+03, 5.9800e+02,\n",
       "        1.6900e+02, 4.9000e+01, 2.6000e+01, 7.0000e+00, 5.0000e+00]),\n",
       " array([  1.,  14.,  27.,  40.,  53.,  66.,  79.,  92., 105., 118., 131.]),\n",
       " <a list of 10 Patch objects>)"
      ]
     },
     "execution_count": 18,
     "metadata": {},
     "output_type": "execute_result"
    },
    {
     "data": {
      "image/png": "[encoded data removed]",
      "text/plain": [
       "<Figure size 432x288 with 1 Axes>"
      ]
     },
     "metadata": {
      "needs_background": "light"
     },
     "output_type": "display_data"
    }
   ],
   "source": [
    "plt.hist(x = list(map(lambda x: len(x.split(' ')), cp.transformed_corpus)))"
   ]
  },
  {
   "cell_type": "code",
   "execution_count": 17,
   "metadata": {},
   "outputs": [
    {
     "data": {
      "text/plain": [
       "35.0"
      ]
     },
     "execution_count": 17,
     "metadata": {},
     "output_type": "execute_result"
    }
   ],
   "source": [
    "np.quantile(list(map(lambda x: len(x.split(' ')), cp.transformed_corpus)), 0.95)"
   ]
  },
  {
   "cell_type": "markdown",
   "metadata": {},
   "source": [
    "## Some random attempts at things"
   ]
  },
  {
   "cell_type": "code",
   "execution_count": 5,
   "metadata": {},
   "outputs": [],
   "source": [
    "with open(r\"D:\\dnn-exercises\\data\\train_shuf.txt\", 'r', encoding='utf8') as f:\n",
    "    text = f.readlines(15 * 1024 * 1024)"
   ]
  },
  {
   "cell_type": "code",
   "execution_count": 14,
   "metadata": {},
   "outputs": [
    {
     "data": {
      "text/plain": [
       "'W ośmiu z szesnastu opisanych dotąd chorób spowodowanych mutacjami dynamicznymi przyczyną choroby jest ekspansja kodonu CAG (oznaczającego aminokwas glutaminę) w sekwencji kodującej genu.'"
      ]
     },
     "execution_count": 14,
     "metadata": {},
     "output_type": "execute_result"
    }
   ],
   "source": [
    "text[12].replace('\\n', '')"
   ]
  },
  {
   "cell_type": "code",
   "execution_count": 24,
   "metadata": {},
   "outputs": [],
   "source": [
    "a = re.sub('[^\\w ]+', '', text[12])"
   ]
  },
  {
   "cell_type": "code",
   "execution_count": 34,
   "metadata": {},
   "outputs": [
    {
     "data": {
      "text/plain": [
       "'w ośmiu z szesnastu opisanych dotąd chorób spowodowanych mutacjami dynamicznymi przyczyną choroby jest ekspansja kodonu cag oznaczającego aminokwas glutaminę w sekwencji kodującej genu'"
      ]
     },
     "execution_count": 34,
     "metadata": {},
     "output_type": "execute_result"
    }
   ],
   "source": [
    "a.lower()"
   ]
  },
  {
   "cell_type": "code",
   "execution_count": 39,
   "metadata": {},
   "outputs": [],
   "source": [
    "a_c = Counter(a)"
   ]
  },
  {
   "cell_type": "code",
   "execution_count": 42,
   "metadata": {},
   "outputs": [
    {
     "data": {
      "text/plain": [
       "[(' ', 22),\n",
       " ('o', 15),\n",
       " ('n', 13),\n",
       " ('a', 13),\n",
       " ('c', 11),\n",
       " ('s', 10),\n",
       " ('i', 8),\n",
       " ('e', 8),\n",
       " ('m', 7),\n",
       " ('u', 7),\n",
       " ('z', 7),\n",
       " ('y', 7),\n",
       " ('j', 7),\n",
       " ('d', 6),\n",
       " ('t', 5),\n",
       " ('w', 5),\n",
       " ('k', 5),\n",
       " ('p', 4),\n",
       " ('h', 4),\n",
       " ('ą', 4),\n",
       " ('r', 3),\n",
       " ('g', 3),\n",
       " ('b', 2),\n",
       " ('W', 1),\n",
       " ('ś', 1),\n",
       " ('ó', 1),\n",
       " ('C', 1),\n",
       " ('A', 1),\n",
       " ('G', 1),\n",
       " ('l', 1),\n",
       " ('ę', 1)]"
      ]
     },
     "execution_count": 42,
     "metadata": {},
     "output_type": "execute_result"
    }
   ],
   "source": [
    "a_c.most_common(len(a_c))"
   ]
  },
  {
   "cell_type": "code",
   "execution_count": 56,
   "metadata": {},
   "outputs": [
    {
     "data": {
      "text/plain": [
       "[1, 2, 2, 3]"
      ]
     },
     "execution_count": 56,
     "metadata": {},
     "output_type": "execute_result"
    }
   ],
   "source": [
    "list(itertools.chain(*[[1,2], [2,3]]))"
   ]
  },
  {
   "cell_type": "code",
   "execution_count": 58,
   "metadata": {},
   "outputs": [
    {
     "data": {
      "text/plain": [
       "[['System',\n",
       "  'Euroraty',\n",
       "  'Chcesz',\n",
       "  'kupować',\n",
       "  'więcej',\n",
       "  'niż',\n",
       "  'gdzie',\n",
       "  'indziej?'],\n",
       " ['Parlament',\n",
       "  'zdecydował',\n",
       "  'jednak',\n",
       "  'inaczej',\n",
       "  'i',\n",
       "  'przyjął',\n",
       "  'w',\n",
       "  'ustawie',\n",
       "  'z',\n",
       "  'dnia',\n",
       "  '28.06.1996',\n",
       "  'r.',\n",
       "  'jednoinstancyjne',\n",
       "  'postępowanie',\n",
       "  'orzeczniczo-lekarskie.'],\n",
       " ['Po',\n",
       "  'kampanii',\n",
       "  'wrześniowej',\n",
       "  '1.DLek',\n",
       "  'raportowała',\n",
       "  '77',\n",
       "  'czołgów',\n",
       "  'L.T.M.35',\n",
       "  'utraconych',\n",
       "  '(wraz',\n",
       "  'z',\n",
       "  'wozami',\n",
       "  'dowodzenia)',\n",
       "  'i',\n",
       "  '52',\n",
       "  'uszkodzone',\n",
       "  'lub',\n",
       "  'zepsute,',\n",
       "  'lecz',\n",
       "  'ostatecznie',\n",
       "  'po',\n",
       "  'naprawach',\n",
       "  'straty',\n",
       "  'bezpowrotne',\n",
       "  'ograniczyły',\n",
       "  'się',\n",
       "  'do',\n",
       "  '7',\n",
       "  'czołgów',\n",
       "  'i',\n",
       "  'w',\n",
       "  'lutym',\n",
       "  '1940',\n",
       "  'roku',\n",
       "  'posiadano',\n",
       "  '195',\n",
       "  'czołgów',\n",
       "  'na',\n",
       "  'stanie.'],\n",
       " ['W',\n",
       "  'rolach',\n",
       "  'głównych',\n",
       "  'wystąpili',\n",
       "  'Jake',\n",
       "  'Gyllenhaal,',\n",
       "  'Forest',\n",
       "  'Whitaker',\n",
       "  'oraz',\n",
       "  'Rachel',\n",
       "  'McAdams.'],\n",
       " ['Zapieczone', 'z', 'pomidorami,', 'bazylią', 'i', 'serem', '...'],\n",
       " ['Może',\n",
       "  'ten',\n",
       "  'przypadek',\n",
       "  'odstraszy',\n",
       "  'innych',\n",
       "  'kłusowników',\n",
       "  'od',\n",
       "  'tego',\n",
       "  'procederu.'],\n",
       " ['Ulgi',\n",
       "  'i',\n",
       "  'przywileje',\n",
       "  'są',\n",
       "  'w',\n",
       "  'stosunkach',\n",
       "  'między',\n",
       "  'państwami',\n",
       "  'zwykle',\n",
       "  'wzajemne,',\n",
       "  'ambasador',\n",
       "  'ma',\n",
       "  'tu',\n",
       "  'niewielkie',\n",
       "  'pole',\n",
       "  'działania.'],\n",
       " ['Pośród',\n",
       "  'wzgórz',\n",
       "  'do',\n",
       "  'strony',\n",
       "  'południowej',\n",
       "  'do',\n",
       "  'państwa',\n",
       "  'wpływał',\n",
       "  'Wierzbiak,',\n",
       "  'który',\n",
       "  'znany',\n",
       "  'był',\n",
       "  'już',\n",
       "  'ze',\n",
       "  'złotonośnych',\n",
       "  'piasków.'],\n",
       " ['Tutaj',\n",
       "  'możecie',\n",
       "  'zobaczyć,',\n",
       "  'jak',\n",
       "  'wygląda',\n",
       "  'to',\n",
       "  'w',\n",
       "  'praktyce,',\n",
       "  'na',\n",
       "  'mapie',\n",
       "  'są',\n",
       "  'wyszczególnione',\n",
       "  'miejsca',\n",
       "  'objęte',\n",
       "  'programem.'],\n",
       " ['Art.',\n",
       "  '39',\n",
       "  'ust.',\n",
       "  '1',\n",
       "  'ustawy',\n",
       "  'z',\n",
       "  'dnia',\n",
       "  '29',\n",
       "  'sierpnia',\n",
       "  '1997r.']]"
      ]
     },
     "execution_count": 58,
     "metadata": {},
     "output_type": "execute_result"
    }
   ],
   "source": [
    "list(map(lambda x: x.split(), text[0:10]))"
   ]
  }
 ],
 "metadata": {
  "kernelspec": {
   "display_name": "venv",
   "language": "python",
   "name": "venv"
  },
  "language_info": {
   "codemirror_mode": {
    "name": "ipython",
    "version": 3
   },
   "file_extension": ".py",
   "mimetype": "text/x-python",
   "name": "python",
   "nbconvert_exporter": "python",
   "pygments_lexer": "ipython3",
   "version": "3.6.4"
  }
 },
 "nbformat": 4,
 "nbformat_minor": 2
}
